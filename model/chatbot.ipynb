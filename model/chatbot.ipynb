{
 "cells": [
  {
   "cell_type": "code",
   "execution_count": 12,
   "metadata": {},
   "outputs": [],
   "source": [
    "#  rapid api ....> chatbot\n",
    "# Tasrif Nur Himel\n",
    "import requests\n",
    "import json\n",
    "\n",
    "def get_gpt_response(prompt):\n",
    "    url = \"https://open-ai21.p.rapidapi.com/conversationgpt35\"\n",
    "\n",
    "    querystring = {\"text\": prompt, \"language\": \"en\"}\n",
    "\n",
    "    payload = {\n",
    "\t\"messages\": [\n",
    "\t\t{\n",
    "\t\t\t\"role\": \"user\",\n",
    "\t\t\t\"content\": prompt\n",
    "\t\t}\n",
    "\t],\n",
    "\t\"web_access\": False,\n",
    "\t\"system_prompt\": \"\",\n",
    "\t\"temperature\": 0.9,\n",
    "\t\"top_k\": 5,\n",
    "\t\"top_p\": 0.9,\n",
    "\t\"max_tokens\": 256\n",
    "\t}\n",
    "    headers = {\n",
    "\t\"content-type\": \"application/json\",\n",
    "\t\"X-RapidAPI-Key\": \"Use your api\",\n",
    "\t\"X-RapidAPI-Host\": \"open-ai21.p.rapidapi.com\"\n",
    "\t}\n",
    "\n",
    "    response = requests.post(url, json=payload, headers=headers)\n",
    "    #print(type(response))\n",
    "    return response.json()"
   ]
  },
  {
   "cell_type": "code",
   "execution_count": 13,
   "metadata": {},
   "outputs": [
    {
     "name": "stdout",
     "output_type": "stream",
     "text": [
      "Python is a high-level programming language that was created by Guido van Rossum in the late 1980s and early 1990s. It is widely used for web development, data analysis, artificial intelligence, and scientific computing. Some of its key features include simplicity and ease of use, flexibility and readability, and a large number of libraries and frameworks available to support various applications.\n"
     ]
    }
   ],
   "source": [
    "input = \"What is python?\"\n",
    "output = get_gpt_response(input)[\"result\"]\n",
    "\n",
    "print(output)"
   ]
  },
  {
   "cell_type": "code",
   "execution_count": 15,
   "metadata": {},
   "outputs": [
    {
     "name": "stdout",
     "output_type": "stream",
     "text": [
      "Machine learning (ML) is a subfield of artificial intelligence that involves developing algorithms and models to enable computers to learn from data without being explicitly programmed. It allows machines to make predictions or decisions based on patterns they find in the data, and as new data becomes available, these models can continue to improve their performance over time. ML techniques are used for tasks such as image recognition, natural language processing, speech recognition, and predictive analytics.\n"
     ]
    }
   ],
   "source": [
    "input = \"What is machine learning?\"\n",
    "output = get_gpt_response(input)[\"result\"]\n",
    "print(output)"
   ]
  },
  {
   "cell_type": "code",
   "execution_count": null,
   "metadata": {},
   "outputs": [],
   "source": [
    "# this project made by tasrif Nur Himel"
   ]
  },
  {
   "cell_type": "code",
   "execution_count": null,
   "metadata": {},
   "outputs": [],
   "source": []
  }
 ],
 "metadata": {
  "kernelspec": {
   "display_name": "Python 3",
   "language": "python",
   "name": "python3"
  },
  "language_info": {
   "codemirror_mode": {
    "name": "ipython",
    "version": 3
   },
   "file_extension": ".py",
   "mimetype": "text/x-python",
   "name": "python",
   "nbconvert_exporter": "python",
   "pygments_lexer": "ipython3",
   "version": "3.9.18"
  }
 },
 "nbformat": 4,
 "nbformat_minor": 2
}
